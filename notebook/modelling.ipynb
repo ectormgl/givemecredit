{
 "cells": [
  {
   "cell_type": "code",
   "execution_count": 184,
   "metadata": {},
   "outputs": [],
   "source": [
    "import matplotlib.pyplot as plt\n",
    "import  numpy as np\n",
    "import  pandas as pd\n",
    "import os\n",
    "from sklearn.model_selection import train_test_split\n",
    "from sklearn.ensemble import RandomForestClassifier\n",
    "from sklearn.metrics import accuracy_score\n",
    "from sklearn.neighbors import KNeighborsClassifier\n",
    "from sklearn import metrics\n",
    "import seaborn as sns\n",
    "\n",
    "from imblearn.over_sampling import RandomOverSampler\n",
    "import random\n",
    "import tensorflow as tf\n",
    "import warnings\n",
    "\n",
    "\n",
    "from sklearn.preprocessing import StandardScaler\n",
    "from sklearn.svm import LinearSVC\n",
    "from sklearn.metrics import classification_report, confusion_matrix, roc_auc_score, roc_curve\n",
    "from sklearn.model_selection import LearningCurveDisplay, learning_curve, KFold, cross_val_score\n",
    "from numpy.typing import ArrayLike\n",
    "\n",
    "\n",
    "\n",
    "\n",
    "\n",
    "\n",
    "warnings.simplefilter(action='ignore', category=FutureWarning)\n",
    "sns.set_theme(style=\"ticks\")\n",
    "sns.set_palette(\"viridis\")"
   ]
  },
  {
   "cell_type": "markdown",
   "metadata": {},
   "source": [
    "### Helper functions"
   ]
  },
  {
   "cell_type": "code",
   "execution_count": 185,
   "metadata": {},
   "outputs": [],
   "source": [
    "df_data= pd.read_csv(os.path.join('..','data', 'cs-training.csv'))\n",
    "def cleanData(df):\n",
    "    '''\n",
    "    Args:\n",
    "            df (Pandas DataFrame): A pandas DataFrame to be cleaned and split\n",
    "\n",
    "    Returns:\n",
    "            X_train (Pandas DataFrame): Pandas DataFrame with a portion of 80% of the dataframe through *train_test_split* sklearn method \n",
    "            X_test (Pandas DataFrame): Pandas DataFrame with a portion of 20% of the dataframe through *train_test_split* sklearn method \n",
    "            y_train (Pandas Series): Pandas Series with a portion of 80% of the dataframe through *train_test_split* sklearn method\n",
    "            y_test (Pandas Series): Pandas Series with a portion of 20% of the dataframe through *train_test_split* sklearn method\n",
    "\n",
    "\n",
    "    '''\n",
    "    df.rename(columns={\"Unnamed: 0\": \"ID\",\n",
    "                            \"RevolvingUtilizationOfUnsecuredLines\": \"balance_divided_creditlimit\", \n",
    "                            \"NumberOfTime60-89DaysPastDueNotWorse\": \"number_times_latepay60-89\"}, inplace=True)\n",
    "\n",
    "    df.dropna(inplace=True)\n",
    "    df= df[df['age'] >=18 ]\n",
    "    df= df[df['NumberOfTime30-59DaysPastDueNotWorse']<96  ]\n",
    "    df= df[df['balance_divided_creditlimit']<=1]\n",
    "\n",
    "    \n",
    "    garbage_columns= [\"ID\",\"SeriousDlqin2yrs\", \"NumberOfTime30-59DaysPastDueNotWorse\"]\n",
    "    X_train, X_test, y_train, y_test = train_test_split( df.drop(garbage_columns, axis=1), df[\"SeriousDlqin2yrs\"], test_size=0.2)\n",
    "    return X_train, X_test, y_train, y_test\n",
    "\n",
    "\n",
    "def overSampling(X: pd.DataFrame | ArrayLike, y: pd.Series | ArrayLike):\n",
    "    '''\n",
    "    Args:\n",
    "        X (Pandas DataFrame | ArrayLike): Pandas DataFrame to use a Over-sampling technique to avoid unbalanced dataset\n",
    "        Y (Pandas Series | ArrayLike): Pandas Series to use a Over-sampling technique to avoid unbalanced dataset\n",
    "    Returns:\n",
    "        X (Pandas DataFrame | ArrayLike): Pandas DataFrame with over-sampling aplied\n",
    "        Y (Pandas Series | ArrayLike): Pandas Series with over-sampling aplied\n",
    "\n",
    "    '''\n",
    "    ros = RandomOverSampler(random_state=0)\n",
    "    X_resampled, y_resampled = ros.fit_resample(X, y)\n",
    "    \n",
    "    return X_resampled, y_resampled\n",
    "\n",
    "\n",
    "\n",
    "def plot_roc(y_true: pd.Series | ArrayLike, y_score: pd.Series | ArrayLike):\n",
    "    '''\n",
    "    Args:\n",
    "        y_true (Pandas Series | Numpy Array | ArrayLike): Actual Y from your dataset\n",
    "        y_score (Pandas Series | Numpy Array | ArrayLike): Probabily estimator of your dataset\n",
    "    Returns:\n",
    "        A Roc/Auc graph from your dataset\n",
    "\n",
    "    '''\n",
    "\n",
    "\n",
    "    fpr, tpr, _ = roc_curve(y_true, y_score)\n",
    "    roc_auc = roc_auc_score(y_true, y_score)\n",
    "    \n",
    "    plt.figure()\n",
    "    plt.plot(fpr, tpr, color='darkorange', lw=2, label=f'ROC curve (area = {roc_auc:.2f})')\n",
    "    plt.plot([0, 1], [0, 1], color='navy', lw=2, linestyle='--')\n",
    "    plt.xlim([0.0, 1.0])\n",
    "    plt.ylim([0.0, 1.05])\n",
    "    plt.xlabel('False Positive Rate')\n",
    "    plt.ylabel('True Positive Rate')\n",
    "    plt.title('Receiver Operating Characteristic')\n",
    "    plt.legend(loc='lower right')\n",
    "    plt.show()\n",
    "\n",
    "\n",
    "\n",
    "def plot_learningCurve(model, X_train: pd.DataFrame | ArrayLike, y_train: pd.Series | ArrayLike):\n",
    "    '''\n",
    "    Args:\n",
    "        model (estimator): object type that implements the “fit” method\n",
    "        X_train (Pandas DataFrame | ArrayLike): your training data without actual Y\n",
    "        y_train (Pandas Series | ArrayLike): your training Y data\n",
    "    Returns:\n",
    "        A plot of a graph of your leaning curve through epochs\n",
    "    \n",
    "    '''\n",
    "\n",
    "    train_sizes, train_scores, test_scores = learning_curve(\n",
    "        model, X_train, y_train)\n",
    "    display = LearningCurveDisplay(train_sizes=train_sizes,\n",
    "        train_scores=train_scores, test_scores=test_scores, score_name=\"Score\")\n",
    "    display.plot()\n",
    "    plt.show()\n",
    "\n",
    "\n",
    "def plot_confussion(Y: pd.Series | ArrayLike, y_pred: pd.Series | ArrayLike):\n",
    "    '''\n",
    "    Args:\n",
    "        Y (Pandas Series | ArrayLike): Actual Y from your dataset\n",
    "        y_pred (Pandas Series | ArrayLike): Y predicted of your model\n",
    "    Returns:\n",
    "        A plot of a graph of the confussion matrix at *sns.heatmap* with percentage\n",
    "    \n",
    "    '''\n",
    "    confi = confusion_matrix(Y, y_pred)\n",
    "    plt.figure(figsize=(10, 10))\n",
    "\n",
    "    confi = (confi/confi.sum())*100\n",
    "    print(confi)\n",
    "    formatted_confi = np.vectorize(lambda x: f\"{x:.2f}%\")(confi)\n",
    "    sns.heatmap(confi, annot=formatted_confi, fmt=\"\", linewidths=.5, cmap='cividis', xticklabels=[ 'FN','TN'], yticklabels=['TP', 'FN'])\n",
    "    \n",
    "\n",
    "    plt.show()\n",
    "\n",
    "def plot_confussion_subplots(Y: pd.Series | ArrayLike, y_pred: pd.Series | ArrayLike, ax=0):\n",
    "    '''\n",
    "    Args:\n",
    "        Y (Pandas Series | ArrayLike): Actual Y from your dataset\n",
    "        y_pred (Pandas Series | ArrayLike): Y predicted of your model\n",
    "        ax (int) : The number or a list to use while plotting more than 1 chart (like axs[1,0])\n",
    "    Returns:\n",
    "        Plots a chart of the confussion matrix at *sns.heatmap* with percentage\n",
    "    \n",
    "    '''\n",
    "    confi = confusion_matrix(Y, y_pred)\n",
    "    confi = (confi/confi.sum())*100\n",
    "    formatted_confi = np.vectorize(lambda x: f\"{x:.2f}%\")(confi)\n",
    "    sns.heatmap(confi, annot=formatted_confi, fmt=\"\", linewidths=.5, cmap='cividis', xticklabels=[ 'FN','TN'], yticklabels=['TP', 'FN'], ax=ax)\n",
    "    \n"
   ]
  },
  {
   "cell_type": "code",
   "execution_count": 186,
   "metadata": {},
   "outputs": [
    {
     "data": {
      "text/html": [
       "<div>\n",
       "<style scoped>\n",
       "    .dataframe tbody tr th:only-of-type {\n",
       "        vertical-align: middle;\n",
       "    }\n",
       "\n",
       "    .dataframe tbody tr th {\n",
       "        vertical-align: top;\n",
       "    }\n",
       "\n",
       "    .dataframe thead th {\n",
       "        text-align: right;\n",
       "    }\n",
       "</style>\n",
       "<table border=\"1\" class=\"dataframe\">\n",
       "  <thead>\n",
       "    <tr style=\"text-align: right;\">\n",
       "      <th></th>\n",
       "      <th>balance_divided_creditlimit</th>\n",
       "      <th>age</th>\n",
       "      <th>DebtRatio</th>\n",
       "      <th>MonthlyIncome</th>\n",
       "      <th>NumberOfOpenCreditLinesAndLoans</th>\n",
       "      <th>NumberOfTimes90DaysLate</th>\n",
       "      <th>NumberRealEstateLoansOrLines</th>\n",
       "      <th>number_times_latepay60-89</th>\n",
       "      <th>NumberOfDependents</th>\n",
       "    </tr>\n",
       "  </thead>\n",
       "  <tbody>\n",
       "    <tr>\n",
       "      <th>0</th>\n",
       "      <td>0.262719</td>\n",
       "      <td>59</td>\n",
       "      <td>0.252541</td>\n",
       "      <td>7083.0</td>\n",
       "      <td>22</td>\n",
       "      <td>1</td>\n",
       "      <td>0</td>\n",
       "      <td>0</td>\n",
       "      <td>0.0</td>\n",
       "    </tr>\n",
       "    <tr>\n",
       "      <th>1</th>\n",
       "      <td>0.422890</td>\n",
       "      <td>44</td>\n",
       "      <td>0.090126</td>\n",
       "      <td>7200.0</td>\n",
       "      <td>9</td>\n",
       "      <td>0</td>\n",
       "      <td>0</td>\n",
       "      <td>0</td>\n",
       "      <td>2.0</td>\n",
       "    </tr>\n",
       "    <tr>\n",
       "      <th>2</th>\n",
       "      <td>0.989402</td>\n",
       "      <td>45</td>\n",
       "      <td>0.659367</td>\n",
       "      <td>6666.0</td>\n",
       "      <td>9</td>\n",
       "      <td>0</td>\n",
       "      <td>2</td>\n",
       "      <td>0</td>\n",
       "      <td>0.0</td>\n",
       "    </tr>\n",
       "    <tr>\n",
       "      <th>3</th>\n",
       "      <td>0.007911</td>\n",
       "      <td>62</td>\n",
       "      <td>0.227629</td>\n",
       "      <td>6000.0</td>\n",
       "      <td>5</td>\n",
       "      <td>0</td>\n",
       "      <td>1</td>\n",
       "      <td>0</td>\n",
       "      <td>1.0</td>\n",
       "    </tr>\n",
       "    <tr>\n",
       "      <th>4</th>\n",
       "      <td>0.197527</td>\n",
       "      <td>42</td>\n",
       "      <td>0.313305</td>\n",
       "      <td>11250.0</td>\n",
       "      <td>8</td>\n",
       "      <td>0</td>\n",
       "      <td>2</td>\n",
       "      <td>0</td>\n",
       "      <td>2.0</td>\n",
       "    </tr>\n",
       "    <tr>\n",
       "      <th>...</th>\n",
       "      <td>...</td>\n",
       "      <td>...</td>\n",
       "      <td>...</td>\n",
       "      <td>...</td>\n",
       "      <td>...</td>\n",
       "      <td>...</td>\n",
       "      <td>...</td>\n",
       "      <td>...</td>\n",
       "      <td>...</td>\n",
       "    </tr>\n",
       "    <tr>\n",
       "      <th>176081</th>\n",
       "      <td>0.103185</td>\n",
       "      <td>61</td>\n",
       "      <td>0.493918</td>\n",
       "      <td>10687.0</td>\n",
       "      <td>22</td>\n",
       "      <td>1</td>\n",
       "      <td>2</td>\n",
       "      <td>0</td>\n",
       "      <td>1.0</td>\n",
       "    </tr>\n",
       "    <tr>\n",
       "      <th>176082</th>\n",
       "      <td>0.876092</td>\n",
       "      <td>55</td>\n",
       "      <td>0.608607</td>\n",
       "      <td>6900.0</td>\n",
       "      <td>30</td>\n",
       "      <td>0</td>\n",
       "      <td>2</td>\n",
       "      <td>0</td>\n",
       "      <td>0.0</td>\n",
       "    </tr>\n",
       "    <tr>\n",
       "      <th>176083</th>\n",
       "      <td>0.067828</td>\n",
       "      <td>52</td>\n",
       "      <td>0.269723</td>\n",
       "      <td>1875.0</td>\n",
       "      <td>5</td>\n",
       "      <td>0</td>\n",
       "      <td>2</td>\n",
       "      <td>0</td>\n",
       "      <td>0.0</td>\n",
       "    </tr>\n",
       "    <tr>\n",
       "      <th>176084</th>\n",
       "      <td>0.998901</td>\n",
       "      <td>27</td>\n",
       "      <td>0.272681</td>\n",
       "      <td>1950.0</td>\n",
       "      <td>2</td>\n",
       "      <td>1</td>\n",
       "      <td>0</td>\n",
       "      <td>0</td>\n",
       "      <td>0.0</td>\n",
       "    </tr>\n",
       "    <tr>\n",
       "      <th>176085</th>\n",
       "      <td>0.566752</td>\n",
       "      <td>40</td>\n",
       "      <td>0.201054</td>\n",
       "      <td>6450.0</td>\n",
       "      <td>9</td>\n",
       "      <td>1</td>\n",
       "      <td>0</td>\n",
       "      <td>1</td>\n",
       "      <td>4.0</td>\n",
       "    </tr>\n",
       "  </tbody>\n",
       "</table>\n",
       "<p>176086 rows × 9 columns</p>\n",
       "</div>"
      ],
      "text/plain": [
       "        balance_divided_creditlimit  age  DebtRatio  MonthlyIncome  \\\n",
       "0                          0.262719   59   0.252541         7083.0   \n",
       "1                          0.422890   44   0.090126         7200.0   \n",
       "2                          0.989402   45   0.659367         6666.0   \n",
       "3                          0.007911   62   0.227629         6000.0   \n",
       "4                          0.197527   42   0.313305        11250.0   \n",
       "...                             ...  ...        ...            ...   \n",
       "176081                     0.103185   61   0.493918        10687.0   \n",
       "176082                     0.876092   55   0.608607         6900.0   \n",
       "176083                     0.067828   52   0.269723         1875.0   \n",
       "176084                     0.998901   27   0.272681         1950.0   \n",
       "176085                     0.566752   40   0.201054         6450.0   \n",
       "\n",
       "        NumberOfOpenCreditLinesAndLoans  NumberOfTimes90DaysLate  \\\n",
       "0                                    22                        1   \n",
       "1                                     9                        0   \n",
       "2                                     9                        0   \n",
       "3                                     5                        0   \n",
       "4                                     8                        0   \n",
       "...                                 ...                      ...   \n",
       "176081                               22                        1   \n",
       "176082                               30                        0   \n",
       "176083                                5                        0   \n",
       "176084                                2                        1   \n",
       "176085                                9                        1   \n",
       "\n",
       "        NumberRealEstateLoansOrLines  number_times_latepay60-89  \\\n",
       "0                                  0                          0   \n",
       "1                                  0                          0   \n",
       "2                                  2                          0   \n",
       "3                                  1                          0   \n",
       "4                                  2                          0   \n",
       "...                              ...                        ...   \n",
       "176081                             2                          0   \n",
       "176082                             2                          0   \n",
       "176083                             2                          0   \n",
       "176084                             0                          0   \n",
       "176085                             0                          1   \n",
       "\n",
       "        NumberOfDependents  \n",
       "0                      0.0  \n",
       "1                      2.0  \n",
       "2                      0.0  \n",
       "3                      1.0  \n",
       "4                      2.0  \n",
       "...                    ...  \n",
       "176081                 1.0  \n",
       "176082                 0.0  \n",
       "176083                 0.0  \n",
       "176084                 0.0  \n",
       "176085                 4.0  \n",
       "\n",
       "[176086 rows x 9 columns]"
      ]
     },
     "execution_count": 186,
     "metadata": {},
     "output_type": "execute_result"
    }
   ],
   "source": [
    "X_train, X_test, y_train, y_test = cleanData(df_data)\n",
    "########################################################\n",
    "X_train, y_train = overSampling(X_train, y_train)\n",
    "X_test, y_test= overSampling(X_test, y_test)\n",
    "X_train"
   ]
  },
  {
   "cell_type": "code",
   "execution_count": 187,
   "metadata": {},
   "outputs": [
    {
     "data": {
      "text/plain": [
       "0         0\n",
       "1         1\n",
       "2         0\n",
       "3         0\n",
       "4         0\n",
       "         ..\n",
       "176081    1\n",
       "176082    1\n",
       "176083    1\n",
       "176084    1\n",
       "176085    1\n",
       "Name: SeriousDlqin2yrs, Length: 176086, dtype: int64"
      ]
     },
     "execution_count": 187,
     "metadata": {},
     "output_type": "execute_result"
    }
   ],
   "source": [
    "y_train"
   ]
  },
  {
   "cell_type": "markdown",
   "metadata": {},
   "source": [
    "## 5.0 DATA PRE-PROCESSING"
   ]
  },
  {
   "cell_type": "markdown",
   "metadata": {},
   "source": [
    "#### 5.1 -   Normalization"
   ]
  },
  {
   "cell_type": "code",
   "execution_count": 188,
   "metadata": {},
   "outputs": [],
   "source": [
    "\n",
    "real_columns= X_train.columns\n",
    "X_train= pd.DataFrame(StandardScaler().fit_transform(X_train), columns=real_columns)\n",
    "X_test = pd.DataFrame(StandardScaler().fit_transform(X_test), columns=real_columns)\n"
   ]
  },
  {
   "cell_type": "code",
   "execution_count": 189,
   "metadata": {},
   "outputs": [
    {
     "data": {
      "text/html": [
       "<div>\n",
       "<style scoped>\n",
       "    .dataframe tbody tr th:only-of-type {\n",
       "        vertical-align: middle;\n",
       "    }\n",
       "\n",
       "    .dataframe tbody tr th {\n",
       "        vertical-align: top;\n",
       "    }\n",
       "\n",
       "    .dataframe thead th {\n",
       "        text-align: right;\n",
       "    }\n",
       "</style>\n",
       "<table border=\"1\" class=\"dataframe\">\n",
       "  <thead>\n",
       "    <tr style=\"text-align: right;\">\n",
       "      <th></th>\n",
       "      <th>balance_divided_creditlimit</th>\n",
       "      <th>age</th>\n",
       "      <th>DebtRatio</th>\n",
       "      <th>MonthlyIncome</th>\n",
       "      <th>NumberOfOpenCreditLinesAndLoans</th>\n",
       "      <th>NumberOfTimes90DaysLate</th>\n",
       "      <th>NumberRealEstateLoansOrLines</th>\n",
       "      <th>number_times_latepay60-89</th>\n",
       "      <th>NumberOfDependents</th>\n",
       "    </tr>\n",
       "  </thead>\n",
       "  <tbody>\n",
       "    <tr>\n",
       "      <th>0</th>\n",
       "      <td>-0.516737</td>\n",
       "      <td>0.714430</td>\n",
       "      <td>-0.062186</td>\n",
       "      <td>0.085194</td>\n",
       "      <td>2.439170</td>\n",
       "      <td>0.752670</td>\n",
       "      <td>-0.830319</td>\n",
       "      <td>-0.329381</td>\n",
       "      <td>-0.785814</td>\n",
       "    </tr>\n",
       "    <tr>\n",
       "      <th>1</th>\n",
       "      <td>-0.091064</td>\n",
       "      <td>-0.365893</td>\n",
       "      <td>-0.062621</td>\n",
       "      <td>0.097253</td>\n",
       "      <td>0.054114</td>\n",
       "      <td>-0.341988</td>\n",
       "      <td>-0.830319</td>\n",
       "      <td>-0.329381</td>\n",
       "      <td>0.891144</td>\n",
       "    </tr>\n",
       "    <tr>\n",
       "      <th>2</th>\n",
       "      <td>1.414511</td>\n",
       "      <td>-0.293872</td>\n",
       "      <td>-0.061094</td>\n",
       "      <td>0.042214</td>\n",
       "      <td>0.054114</td>\n",
       "      <td>-0.341988</td>\n",
       "      <td>0.711239</td>\n",
       "      <td>-0.329381</td>\n",
       "      <td>-0.785814</td>\n",
       "    </tr>\n",
       "    <tr>\n",
       "      <th>3</th>\n",
       "      <td>-1.193920</td>\n",
       "      <td>0.930495</td>\n",
       "      <td>-0.062252</td>\n",
       "      <td>-0.026431</td>\n",
       "      <td>-0.679750</td>\n",
       "      <td>-0.341988</td>\n",
       "      <td>-0.059540</td>\n",
       "      <td>-0.329381</td>\n",
       "      <td>0.052665</td>\n",
       "    </tr>\n",
       "    <tr>\n",
       "      <th>4</th>\n",
       "      <td>-0.689994</td>\n",
       "      <td>-0.509937</td>\n",
       "      <td>-0.062023</td>\n",
       "      <td>0.514687</td>\n",
       "      <td>-0.129352</td>\n",
       "      <td>-0.341988</td>\n",
       "      <td>0.711239</td>\n",
       "      <td>-0.329381</td>\n",
       "      <td>0.891144</td>\n",
       "    </tr>\n",
       "    <tr>\n",
       "      <th>...</th>\n",
       "      <td>...</td>\n",
       "      <td>...</td>\n",
       "      <td>...</td>\n",
       "      <td>...</td>\n",
       "      <td>...</td>\n",
       "      <td>...</td>\n",
       "      <td>...</td>\n",
       "      <td>...</td>\n",
       "      <td>...</td>\n",
       "    </tr>\n",
       "    <tr>\n",
       "      <th>176081</th>\n",
       "      <td>-0.940718</td>\n",
       "      <td>0.858474</td>\n",
       "      <td>-0.061538</td>\n",
       "      <td>0.456658</td>\n",
       "      <td>2.439170</td>\n",
       "      <td>0.752670</td>\n",
       "      <td>0.711239</td>\n",
       "      <td>-0.329381</td>\n",
       "      <td>0.052665</td>\n",
       "    </tr>\n",
       "    <tr>\n",
       "      <th>176082</th>\n",
       "      <td>1.113375</td>\n",
       "      <td>0.426344</td>\n",
       "      <td>-0.061230</td>\n",
       "      <td>0.066332</td>\n",
       "      <td>3.906898</td>\n",
       "      <td>-0.341988</td>\n",
       "      <td>0.711239</td>\n",
       "      <td>-0.329381</td>\n",
       "      <td>-0.785814</td>\n",
       "    </tr>\n",
       "    <tr>\n",
       "      <th>176083</th>\n",
       "      <td>-1.034685</td>\n",
       "      <td>0.210279</td>\n",
       "      <td>-0.062139</td>\n",
       "      <td>-0.451595</td>\n",
       "      <td>-0.679750</td>\n",
       "      <td>-0.341988</td>\n",
       "      <td>0.711239</td>\n",
       "      <td>-0.329381</td>\n",
       "      <td>-0.785814</td>\n",
       "    </tr>\n",
       "    <tr>\n",
       "      <th>176084</th>\n",
       "      <td>1.439756</td>\n",
       "      <td>-1.590261</td>\n",
       "      <td>-0.062132</td>\n",
       "      <td>-0.443864</td>\n",
       "      <td>-1.230148</td>\n",
       "      <td>0.752670</td>\n",
       "      <td>-0.830319</td>\n",
       "      <td>-0.329381</td>\n",
       "      <td>-0.785814</td>\n",
       "    </tr>\n",
       "    <tr>\n",
       "      <th>176085</th>\n",
       "      <td>0.291266</td>\n",
       "      <td>-0.653980</td>\n",
       "      <td>-0.062324</td>\n",
       "      <td>0.019951</td>\n",
       "      <td>0.054114</td>\n",
       "      <td>0.752670</td>\n",
       "      <td>-0.830319</td>\n",
       "      <td>1.415799</td>\n",
       "      <td>2.568101</td>\n",
       "    </tr>\n",
       "  </tbody>\n",
       "</table>\n",
       "<p>176086 rows × 9 columns</p>\n",
       "</div>"
      ],
      "text/plain": [
       "        balance_divided_creditlimit       age  DebtRatio  MonthlyIncome  \\\n",
       "0                         -0.516737  0.714430  -0.062186       0.085194   \n",
       "1                         -0.091064 -0.365893  -0.062621       0.097253   \n",
       "2                          1.414511 -0.293872  -0.061094       0.042214   \n",
       "3                         -1.193920  0.930495  -0.062252      -0.026431   \n",
       "4                         -0.689994 -0.509937  -0.062023       0.514687   \n",
       "...                             ...       ...        ...            ...   \n",
       "176081                    -0.940718  0.858474  -0.061538       0.456658   \n",
       "176082                     1.113375  0.426344  -0.061230       0.066332   \n",
       "176083                    -1.034685  0.210279  -0.062139      -0.451595   \n",
       "176084                     1.439756 -1.590261  -0.062132      -0.443864   \n",
       "176085                     0.291266 -0.653980  -0.062324       0.019951   \n",
       "\n",
       "        NumberOfOpenCreditLinesAndLoans  NumberOfTimes90DaysLate  \\\n",
       "0                              2.439170                 0.752670   \n",
       "1                              0.054114                -0.341988   \n",
       "2                              0.054114                -0.341988   \n",
       "3                             -0.679750                -0.341988   \n",
       "4                             -0.129352                -0.341988   \n",
       "...                                 ...                      ...   \n",
       "176081                         2.439170                 0.752670   \n",
       "176082                         3.906898                -0.341988   \n",
       "176083                        -0.679750                -0.341988   \n",
       "176084                        -1.230148                 0.752670   \n",
       "176085                         0.054114                 0.752670   \n",
       "\n",
       "        NumberRealEstateLoansOrLines  number_times_latepay60-89  \\\n",
       "0                          -0.830319                  -0.329381   \n",
       "1                          -0.830319                  -0.329381   \n",
       "2                           0.711239                  -0.329381   \n",
       "3                          -0.059540                  -0.329381   \n",
       "4                           0.711239                  -0.329381   \n",
       "...                              ...                        ...   \n",
       "176081                      0.711239                  -0.329381   \n",
       "176082                      0.711239                  -0.329381   \n",
       "176083                      0.711239                  -0.329381   \n",
       "176084                     -0.830319                  -0.329381   \n",
       "176085                     -0.830319                   1.415799   \n",
       "\n",
       "        NumberOfDependents  \n",
       "0                -0.785814  \n",
       "1                 0.891144  \n",
       "2                -0.785814  \n",
       "3                 0.052665  \n",
       "4                 0.891144  \n",
       "...                    ...  \n",
       "176081            0.052665  \n",
       "176082           -0.785814  \n",
       "176083           -0.785814  \n",
       "176084           -0.785814  \n",
       "176085            2.568101  \n",
       "\n",
       "[176086 rows x 9 columns]"
      ]
     },
     "execution_count": 189,
     "metadata": {},
     "output_type": "execute_result"
    }
   ],
   "source": [
    "X_train"
   ]
  },
  {
   "cell_type": "markdown",
   "metadata": {},
   "source": [
    "## 6.0 - Model Training"
   ]
  },
  {
   "cell_type": "markdown",
   "metadata": {},
   "source": [
    "#### 6.1 -  KNN Classifier"
   ]
  },
  {
   "cell_type": "code",
   "execution_count": 190,
   "metadata": {},
   "outputs": [
    {
     "data": {
      "image/png": "[encoded data removed]",
      "text/plain": [
       "<Figure size 640x480 with 1 Axes>"
      ]
     },
     "metadata": {},
     "output_type": "display_data"
    }
   ],
   "source": [
    "models_accuracy = pd.DataFrame(columns=['KNN', 'RForest', 'SVM', 'Neural Network' ])\n",
    "knn = KNeighborsClassifier(n_neighbors=50).fit(X_train, y_train)\n",
    "y_knn_n = knn.predict(X_test)\n",
    "y_prob_knn = knn.predict_proba(X_test)[:, 1]\n",
    "\n",
    "accuracy_knn = (accuracy_score(y_test, y_knn_n))*100\n",
    "roc_knn= roc_auc_score(y_test, y_prob_knn)\n",
    "\n",
    "plot_roc(y_test, y_prob_knn)\n",
    "\n"
   ]
  },
  {
   "cell_type": "markdown",
   "metadata": {},
   "source": [
    "#### 6.2 -  Random Florest Classifier"
   ]
  },
  {
   "cell_type": "code",
   "execution_count": 191,
   "metadata": {},
   "outputs": [
    {
     "data": {
      "image/png": "[encoded data removed]",
      "text/plain": [
       "<Figure size 640x480 with 1 Axes>"
      ]
     },
     "metadata": {},
     "output_type": "display_data"
    },
    {
     "data": {
      "image/png": "[encoded data removed]",
      "text/plain": [
       "<Figure size 640x480 with 1 Axes>"
      ]
     },
     "metadata": {},
     "output_type": "display_data"
    },
    {
     "name": "stdout",
     "output_type": "stream",
     "text": [
      "[[21854   207]\n",
      " [19008  3053]]\n"
     ]
    }
   ],
   "source": [
    "# Model\n",
    "forest = RandomForestClassifier(random_state=0)\n",
    "forest.fit(X_train, y_train)\n",
    "\n",
    "#Predicts\n",
    "y_RFC= forest.predict(X_test)\n",
    "y_pred_prob = forest.predict_proba(X_test)[:, 1]\n",
    "\n",
    "#Metrics\n",
    "accuracy_RFC= (accuracy_score(y_test, y_RFC))*100\n",
    "roc_rfc=roc_auc_score(y_test, y_pred_prob)\n",
    "\n",
    "#plots\n",
    "\n",
    "importance = forest.feature_importances_\n",
    "global_importances = pd.DataFrame(importance, index=X_train.columns)\n",
    "\n",
    "\n",
    "global_importances.plot.barh()\n",
    "plot_roc(y_test, y_pred_prob)\n",
    "\n",
    "print(confusion_matrix(y_test, y_RFC))\n",
    "\n",
    "plt.show()"
   ]
  },
  {
   "cell_type": "markdown",
   "metadata": {},
   "source": [
    "#### 6.3 - SVM"
   ]
  },
  {
   "cell_type": "code",
   "execution_count": 192,
   "metadata": {},
   "outputs": [
    {
     "name": "stdout",
     "output_type": "stream",
     "text": [
      "[[38.33461765 11.66538235]\n",
      " [15.16477041 34.83522959]]\n"
     ]
    },
    {
     "data": {
      "image/png": "[encoded data removed]",
      "text/plain": [
       "<Figure size 1000x1000 with 2 Axes>"
      ]
     },
     "metadata": {},
     "output_type": "display_data"
    },
    {
     "data": {
      "text/plain": [
       "73.16984724173882"
      ]
     },
     "execution_count": 192,
     "metadata": {},
     "output_type": "execute_result"
    }
   ],
   "source": [
    "\n",
    "svm_model = LinearSVC(random_state=0, C=0.1, penalty='l2')  \n",
    "svm_model.fit(X_train, y_train)\n",
    "\n",
    "y_pred = svm_model.predict(X_test)\n",
    "\n",
    "\n",
    "plot_confussion(y_test, y_pred )\n",
    "cm_rf= classification_report(y_test, y_pred)\n",
    "accuracy_SVM= (accuracy_score(y_pred, y_test))*100\n",
    "accuracy_SVM"
   ]
  },
  {
   "cell_type": "markdown",
   "metadata": {},
   "source": [
    "##### Using K-fold Cross validation on SVM\n"
   ]
  },
  {
   "cell_type": "code",
   "execution_count": 193,
   "metadata": {},
   "outputs": [
    {
     "name": "stdout",
     "output_type": "stream",
     "text": [
      "{'C': 1, 'penalty': 'l1'}\n"
     ]
    }
   ],
   "source": [
    "\n",
    "from sklearn.model_selection import GridSearchCV\n",
    "\n",
    "\n",
    "# Definindo o espaço de busca\n",
    "param_grid = {'C': [0.1, 1, 10],\n",
    "              'penalty': ['l1', 'l2']}\n",
    "\n",
    "# Criando o objeto GridSearchCV\n",
    "grid = GridSearchCV(svm_model, param_grid, cv=5)\n",
    "\n",
    "# Ajustando o modelo aos dados\n",
    "grid.fit(X_train, y_train)\n",
    "\n",
    "# Melhores parâmetros\n",
    "print(grid.best_params_)\n",
    "\n",
    "\n",
    "\n"
   ]
  },
  {
   "cell_type": "markdown",
   "metadata": {},
   "source": [
    "### Description\n",
    "- Support Vector Machines (SVM)"
   ]
  },
  {
   "cell_type": "markdown",
   "metadata": {},
   "source": [
    "#### 6.4 -  Neural networks"
   ]
  },
  {
   "cell_type": "code",
   "execution_count": 194,
   "metadata": {},
   "outputs": [
    {
     "name": "stdout",
     "output_type": "stream",
     "text": [
      "Epoch 1/5\n",
      "\u001b[1m5503/5503\u001b[0m \u001b[32m━━━━━━━━━━━━━━━━━━━━\u001b[0m\u001b[37m\u001b[0m \u001b[1m4s\u001b[0m 530us/step - binary_accuracy: 0.7454 - loss: 0.5298\n",
      "Epoch 2/5\n",
      "\u001b[1m5503/5503\u001b[0m \u001b[32m━━━━━━━━━━━━━━━━━━━━\u001b[0m\u001b[37m\u001b[0m \u001b[1m3s\u001b[0m 537us/step - binary_accuracy: 0.7507 - loss: 0.5177\n",
      "Epoch 3/5\n",
      "\u001b[1m5503/5503\u001b[0m \u001b[32m━━━━━━━━━━━━━━━━━━━━\u001b[0m\u001b[37m\u001b[0m \u001b[1m3s\u001b[0m 550us/step - binary_accuracy: 0.7524 - loss: 0.5142\n",
      "Epoch 4/5\n",
      "\u001b[1m5503/5503\u001b[0m \u001b[32m━━━━━━━━━━━━━━━━━━━━\u001b[0m\u001b[37m\u001b[0m \u001b[1m3s\u001b[0m 545us/step - binary_accuracy: 0.7526 - loss: 0.5133\n",
      "Epoch 5/5\n",
      "\u001b[1m5503/5503\u001b[0m \u001b[32m━━━━━━━━━━━━━━━━━━━━\u001b[0m\u001b[37m\u001b[0m \u001b[1m3s\u001b[0m 530us/step - binary_accuracy: 0.7536 - loss: 0.5116\n"
     ]
    },
    {
     "data": {
      "text/plain": [
       "<keras.src.callbacks.history.History at 0x21783eea060>"
      ]
     },
     "execution_count": 194,
     "metadata": {},
     "output_type": "execute_result"
    }
   ],
   "source": [
    "model =tf.keras.Sequential(\n",
    "[tf.keras.layers.Input(shape=(9,)),\n",
    " tf.keras.layers.Dense(units=50, activation='relu', ),\n",
    " tf.keras.layers.Dense(units=100, activation='relu', ),\n",
    " tf.keras.layers.Dropout(0.2),\n",
    " tf.keras.layers.Dense(units=50, activation='relu' ),\n",
    " tf.keras.layers.Dense(units=1, activation='sigmoid', )\n",
    "]\n",
    ")\n",
    "model.compile(optimizer=tf.keras.optimizers.Adam(learning_rate=0.01), loss='binary_crossentropy',  metrics=[tf.keras.metrics.BinaryAccuracy()])\n",
    "model.fit(X_train, y_train, batch_size=32, epochs=5)"
   ]
  },
  {
   "cell_type": "code",
   "execution_count": 195,
   "metadata": {},
   "outputs": [
    {
     "data": {
      "text/html": [
       "<pre style=\"white-space:pre;overflow-x:auto;line-height:normal;font-family:Menlo,'DejaVu Sans Mono',consolas,'Courier New',monospace\"><span style=\"font-weight: bold\">Model: \"sequential_3\"</span>\n",
       "</pre>\n"
      ],
      "text/plain": [
       "\u001b[1mModel: \"sequential_3\"\u001b[0m\n"
      ]
     },
     "metadata": {},
     "output_type": "display_data"
    },
    {
     "data": {
      "text/html": [
       "<pre style=\"white-space:pre;overflow-x:auto;line-height:normal;font-family:Menlo,'DejaVu Sans Mono',consolas,'Courier New',monospace\">┏━━━━━━━━━━━━━━━━━━━━━━━━━━━━━━━━━┳━━━━━━━━━━━━━━━━━━━━━━━━┳━━━━━━━━━━━━━━━┓\n",
       "┃<span style=\"font-weight: bold\"> Layer (type)                    </span>┃<span style=\"font-weight: bold\"> Output Shape           </span>┃<span style=\"font-weight: bold\">       Param # </span>┃\n",
       "┡━━━━━━━━━━━━━━━━━━━━━━━━━━━━━━━━━╇━━━━━━━━━━━━━━━━━━━━━━━━╇━━━━━━━━━━━━━━━┩\n",
       "│ dense_12 (<span style=\"color: #0087ff; text-decoration-color: #0087ff\">Dense</span>)                │ (<span style=\"color: #00d7ff; text-decoration-color: #00d7ff\">None</span>, <span style=\"color: #00af00; text-decoration-color: #00af00\">50</span>)             │           <span style=\"color: #00af00; text-decoration-color: #00af00\">500</span> │\n",
       "├─────────────────────────────────┼────────────────────────┼───────────────┤\n",
       "│ dense_13 (<span style=\"color: #0087ff; text-decoration-color: #0087ff\">Dense</span>)                │ (<span style=\"color: #00d7ff; text-decoration-color: #00d7ff\">None</span>, <span style=\"color: #00af00; text-decoration-color: #00af00\">100</span>)            │         <span style=\"color: #00af00; text-decoration-color: #00af00\">5,100</span> │\n",
       "├─────────────────────────────────┼────────────────────────┼───────────────┤\n",
       "│ dropout_3 (<span style=\"color: #0087ff; text-decoration-color: #0087ff\">Dropout</span>)             │ (<span style=\"color: #00d7ff; text-decoration-color: #00d7ff\">None</span>, <span style=\"color: #00af00; text-decoration-color: #00af00\">100</span>)            │             <span style=\"color: #00af00; text-decoration-color: #00af00\">0</span> │\n",
       "├─────────────────────────────────┼────────────────────────┼───────────────┤\n",
       "│ dense_14 (<span style=\"color: #0087ff; text-decoration-color: #0087ff\">Dense</span>)                │ (<span style=\"color: #00d7ff; text-decoration-color: #00d7ff\">None</span>, <span style=\"color: #00af00; text-decoration-color: #00af00\">50</span>)             │         <span style=\"color: #00af00; text-decoration-color: #00af00\">5,050</span> │\n",
       "├─────────────────────────────────┼────────────────────────┼───────────────┤\n",
       "│ dense_15 (<span style=\"color: #0087ff; text-decoration-color: #0087ff\">Dense</span>)                │ (<span style=\"color: #00d7ff; text-decoration-color: #00d7ff\">None</span>, <span style=\"color: #00af00; text-decoration-color: #00af00\">1</span>)              │            <span style=\"color: #00af00; text-decoration-color: #00af00\">51</span> │\n",
       "└─────────────────────────────────┴────────────────────────┴───────────────┘\n",
       "</pre>\n"
      ],
      "text/plain": [
       "┏━━━━━━━━━━━━━━━━━━━━━━━━━━━━━━━━━┳━━━━━━━━━━━━━━━━━━━━━━━━┳━━━━━━━━━━━━━━━┓\n",
       "┃\u001b[1m \u001b[0m\u001b[1mLayer (type)                   \u001b[0m\u001b[1m \u001b[0m┃\u001b[1m \u001b[0m\u001b[1mOutput Shape          \u001b[0m\u001b[1m \u001b[0m┃\u001b[1m \u001b[0m\u001b[1m      Param #\u001b[0m\u001b[1m \u001b[0m┃\n",
       "┡━━━━━━━━━━━━━━━━━━━━━━━━━━━━━━━━━╇━━━━━━━━━━━━━━━━━━━━━━━━╇━━━━━━━━━━━━━━━┩\n",
       "│ dense_12 (\u001b[38;5;33mDense\u001b[0m)                │ (\u001b[38;5;45mNone\u001b[0m, \u001b[38;5;34m50\u001b[0m)             │           \u001b[38;5;34m500\u001b[0m │\n",
       "├─────────────────────────────────┼────────────────────────┼───────────────┤\n",
       "│ dense_13 (\u001b[38;5;33mDense\u001b[0m)                │ (\u001b[38;5;45mNone\u001b[0m, \u001b[38;5;34m100\u001b[0m)            │         \u001b[38;5;34m5,100\u001b[0m │\n",
       "├─────────────────────────────────┼────────────────────────┼───────────────┤\n",
       "│ dropout_3 (\u001b[38;5;33mDropout\u001b[0m)             │ (\u001b[38;5;45mNone\u001b[0m, \u001b[38;5;34m100\u001b[0m)            │             \u001b[38;5;34m0\u001b[0m │\n",
       "├─────────────────────────────────┼────────────────────────┼───────────────┤\n",
       "│ dense_14 (\u001b[38;5;33mDense\u001b[0m)                │ (\u001b[38;5;45mNone\u001b[0m, \u001b[38;5;34m50\u001b[0m)             │         \u001b[38;5;34m5,050\u001b[0m │\n",
       "├─────────────────────────────────┼────────────────────────┼───────────────┤\n",
       "│ dense_15 (\u001b[38;5;33mDense\u001b[0m)                │ (\u001b[38;5;45mNone\u001b[0m, \u001b[38;5;34m1\u001b[0m)              │            \u001b[38;5;34m51\u001b[0m │\n",
       "└─────────────────────────────────┴────────────────────────┴───────────────┘\n"
      ]
     },
     "metadata": {},
     "output_type": "display_data"
    },
    {
     "data": {
      "text/html": [
       "<pre style=\"white-space:pre;overflow-x:auto;line-height:normal;font-family:Menlo,'DejaVu Sans Mono',consolas,'Courier New',monospace\"><span style=\"font-weight: bold\"> Total params: </span><span style=\"color: #00af00; text-decoration-color: #00af00\">32,105</span> (125.41 KB)\n",
       "</pre>\n"
      ],
      "text/plain": [
       "\u001b[1m Total params: \u001b[0m\u001b[38;5;34m32,105\u001b[0m (125.41 KB)\n"
      ]
     },
     "metadata": {},
     "output_type": "display_data"
    },
    {
     "data": {
      "text/html": [
       "<pre style=\"white-space:pre;overflow-x:auto;line-height:normal;font-family:Menlo,'DejaVu Sans Mono',consolas,'Courier New',monospace\"><span style=\"font-weight: bold\"> Trainable params: </span><span style=\"color: #00af00; text-decoration-color: #00af00\">10,701</span> (41.80 KB)\n",
       "</pre>\n"
      ],
      "text/plain": [
       "\u001b[1m Trainable params: \u001b[0m\u001b[38;5;34m10,701\u001b[0m (41.80 KB)\n"
      ]
     },
     "metadata": {},
     "output_type": "display_data"
    },
    {
     "data": {
      "text/html": [
       "<pre style=\"white-space:pre;overflow-x:auto;line-height:normal;font-family:Menlo,'DejaVu Sans Mono',consolas,'Courier New',monospace\"><span style=\"font-weight: bold\"> Non-trainable params: </span><span style=\"color: #00af00; text-decoration-color: #00af00\">0</span> (0.00 B)\n",
       "</pre>\n"
      ],
      "text/plain": [
       "\u001b[1m Non-trainable params: \u001b[0m\u001b[38;5;34m0\u001b[0m (0.00 B)\n"
      ]
     },
     "metadata": {},
     "output_type": "display_data"
    },
    {
     "data": {
      "text/html": [
       "<pre style=\"white-space:pre;overflow-x:auto;line-height:normal;font-family:Menlo,'DejaVu Sans Mono',consolas,'Courier New',monospace\"><span style=\"font-weight: bold\"> Optimizer params: </span><span style=\"color: #00af00; text-decoration-color: #00af00\">21,404</span> (83.61 KB)\n",
       "</pre>\n"
      ],
      "text/plain": [
       "\u001b[1m Optimizer params: \u001b[0m\u001b[38;5;34m21,404\u001b[0m (83.61 KB)\n"
      ]
     },
     "metadata": {},
     "output_type": "display_data"
    }
   ],
   "source": [
    "model.summary()"
   ]
  },
  {
   "cell_type": "code",
   "execution_count": 196,
   "metadata": {},
   "outputs": [
    {
     "name": "stdout",
     "output_type": "stream",
     "text": [
      "\u001b[1m1379/1379\u001b[0m \u001b[32m━━━━━━━━━━━━━━━━━━━━\u001b[0m\u001b[37m\u001b[0m \u001b[1m1s\u001b[0m 395us/step\n",
      "Model Accuracy: 72.32219754317573\n"
     ]
    }
   ],
   "source": [
    "y_nn=model.predict(X_test)\n",
    "y_pred_nn = (y_nn >= 0.6).astype(int)\n",
    "acc_NN= (accuracy_score(y_pred_nn, y_test ))*100\n",
    "print(f\"Model Accuracy: {acc_NN}\")"
   ]
  },
  {
   "cell_type": "code",
   "execution_count": 197,
   "metadata": {},
   "outputs": [
    {
     "data": {
      "text/plain": [
       "(44122,)"
      ]
     },
     "execution_count": 197,
     "metadata": {},
     "output_type": "execute_result"
    }
   ],
   "source": [
    "y_test.shape"
   ]
  },
  {
   "cell_type": "code",
   "execution_count": 198,
   "metadata": {},
   "outputs": [
    {
     "name": "stdout",
     "output_type": "stream",
     "text": [
      "----------  KNN  ----------\n",
      "\n",
      "              precision    recall  f1-score       support\n",
      "0              0.700009  0.742623  0.720686  22061.000000\n",
      "1              0.725939  0.681746  0.703149  22061.000000\n",
      "accuracy       0.712184  0.712184  0.712184      0.712184\n",
      "macro avg      0.712974  0.712184  0.711917  44122.000000\n",
      "weighted avg   0.712974  0.712184  0.711917  44122.000000\n",
      "----------  Random Florest Classifier  ----------\n",
      "\n",
      "              precision    recall  f1-score       support\n",
      "0              0.534825  0.990617  0.694627  22061.000000\n",
      "1              0.936503  0.138389  0.241144  22061.000000\n",
      "accuracy       0.564503  0.564503  0.564503      0.564503\n",
      "macro avg      0.735664  0.564503  0.467885  44122.000000\n",
      "weighted avg   0.735664  0.564503  0.467885  44122.000000\n",
      "----------  Support Vector Machines (SVM)  ----------\n",
      "\n",
      "              precision    recall  f1-score       support\n",
      "0              0.716543  0.766692  0.740770  22061.000000\n",
      "1              0.749135  0.696705  0.721969  22061.000000\n",
      "accuracy       0.731698  0.731698  0.731698      0.731698\n",
      "macro avg      0.732839  0.731698  0.731370  44122.000000\n",
      "weighted avg   0.732839  0.731698  0.731370  44122.000000\n",
      "----------  Neural Network  ----------\n",
      "              precision    recall  f1-score       support\n",
      "0              0.716543  0.766692  0.740770  22061.000000\n",
      "1              0.749135  0.696705  0.721969  22061.000000\n",
      "accuracy       0.731698  0.731698  0.731698      0.731698\n",
      "macro avg      0.732839  0.731698  0.731370  44122.000000\n",
      "weighted avg   0.732839  0.731698  0.731370  44122.000000\n"
     ]
    }
   ],
   "source": [
    "report_knn= classification_report(y_test, y_knn_n, output_dict=True)\n",
    "report_rfc= classification_report(y_test, y_RFC, output_dict=True)\n",
    "report_svm= classification_report(y_test, y_pred, output_dict=True)\n",
    "report_nn= classification_report(y_test, y_pred, output_dict=True)\n",
    "print('----------  KNN  ----------\\n')\n",
    "print(pd.DataFrame(report_knn).T)\n",
    "print('----------  Random Florest Classifier  ----------\\n')\n",
    "print(pd.DataFrame(report_rfc).T)\n",
    "print('----------  Support Vector Machines (SVM)  ----------\\n')\n",
    "print(pd.DataFrame(report_svm).T)\n",
    "print('----------  Neural Network  ----------')\n",
    "print(pd.DataFrame(report_nn).T)"
   ]
  },
  {
   "cell_type": "code",
   "execution_count": 199,
   "metadata": {},
   "outputs": [
    {
     "name": "stdout",
     "output_type": "stream",
     "text": [
      "-------------------------------------- Classification Confussion Matrix in % --------------------------------------\n"
     ]
    },
    {
     "data": {
      "image/png": "[encoded data removed]",
      "text/plain": [
       "<Figure size 1500x500 with 8 Axes>"
      ]
     },
     "metadata": {},
     "output_type": "display_data"
    }
   ],
   "source": [
    "fig, axs =plt.subplots(2, 2, figsize=(15, 5))\n",
    "plot_confussion_subplots(y_knn_n, y_test, ax=axs[0,0])\n",
    "axs[0,0].set_title('KNN')\n",
    "\n",
    "plot_confussion_subplots(y_RFC, y_test, ax=axs[0,1])\n",
    "axs[0,1].set_title('RFC')\n",
    "plot_confussion_subplots(y_pred, y_test, ax=axs[1,0])\n",
    "axs[1,0].set_title('SVM')\n",
    "plot_confussion_subplots(y_pred_nn, y_test, ax=axs[1,1])\n",
    "axs[1,1].set_title('Neural Network')\n",
    "\n",
    "print('-'*38, 'Classification Confussion Matrix in %' ,'-'*38)\n",
    "plt.show()"
   ]
  },
  {
   "cell_type": "code",
   "execution_count": 200,
   "metadata": {},
   "outputs": [
    {
     "data": {
      "text/html": [
       "<div>\n",
       "<style scoped>\n",
       "    .dataframe tbody tr th:only-of-type {\n",
       "        vertical-align: middle;\n",
       "    }\n",
       "\n",
       "    .dataframe tbody tr th {\n",
       "        vertical-align: top;\n",
       "    }\n",
       "\n",
       "    .dataframe thead th {\n",
       "        text-align: right;\n",
       "    }\n",
       "</style>\n",
       "<table border=\"1\" class=\"dataframe\">\n",
       "  <thead>\n",
       "    <tr style=\"text-align: right;\">\n",
       "      <th></th>\n",
       "      <th>KNN</th>\n",
       "      <th>RForest</th>\n",
       "      <th>SVM</th>\n",
       "      <th>Neural Network</th>\n",
       "    </tr>\n",
       "  </thead>\n",
       "  <tbody>\n",
       "    <tr>\n",
       "      <th>0</th>\n",
       "      <td>71.22%</td>\n",
       "      <td>56.45%</td>\n",
       "      <td>73.17%</td>\n",
       "      <td>72.32%</td>\n",
       "    </tr>\n",
       "  </tbody>\n",
       "</table>\n",
       "</div>"
      ],
      "text/plain": [
       "      KNN RForest     SVM Neural Network\n",
       "0  71.22%  56.45%  73.17%         72.32%"
      ]
     },
     "execution_count": 200,
     "metadata": {},
     "output_type": "execute_result"
    }
   ],
   "source": [
    "models_accuracy.loc[0]= {'KNN':f'{accuracy_knn:.2f}%', 'RForest': f'{accuracy_RFC:.2f}%', 'SVM': f'{accuracy_SVM:.2f}%', 'Neural Network': f'{acc_NN:.2f}%'}\n",
    "models_accuracy"
   ]
  },
  {
   "cell_type": "markdown",
   "metadata": {},
   "source": [
    "### Save the model"
   ]
  },
  {
   "cell_type": "code",
   "execution_count": 201,
   "metadata": {},
   "outputs": [],
   "source": [
    "import pickle\n",
    "path_model= os.path.join('..', 'model', 'model_svm.pkl')\n",
    "# save\n",
    "with open(path_model,'wb') as f:\n",
    "    pickle.dump(svm_model, f)\n"
   ]
  },
  {
   "cell_type": "markdown",
   "metadata": {},
   "source": [
    "### Load the model"
   ]
  },
  {
   "cell_type": "code",
   "execution_count": 218,
   "metadata": {},
   "outputs": [
    {
     "name": "stdout",
     "output_type": "stream",
     "text": [
      "   SeriousDlqin2yrs\n",
      "4                 0\n",
      "5                 0\n",
      "6                 0\n",
      "7                 0\n"
     ]
    },
    {
     "data": {
      "text/plain": [
       "array([0, 1, 0, 0], dtype=int64)"
      ]
     },
     "execution_count": 218,
     "metadata": {},
     "output_type": "execute_result"
    }
   ],
   "source": [
    "with open(path_model, 'rb') as f:\n",
    "    clf2 = pickle.load(f)\n",
    "print(pd.DataFrame(y_train[4:8]))\n",
    "clf2.predict(X_train.iloc[4:8])\n"
   ]
  },
  {
   "cell_type": "markdown",
   "metadata": {},
   "source": [
    "# Final Considerations\n",
    "\n",
    "- Although we have a relatively simple data cleaning and modeling, we've got incredible results!\n",
    "- The worst model performed over the training and test examples was the Random Florest Classifier (RFC) with almost 50% of accuracy. A god point of view is that RFC got a **0.78 score** of AUC but is awful with accuracy and has an f1-score (in training examples where y = True) of **0.024** !!!\n",
    "\n",
    "- For note: by just changing the normalization for Standard Scaler I've got a big I received a huge increase, especially in accuracy (not documented it above)"
   ]
  }
 ],
 "metadata": {
  "kernelspec": {
   "display_name": ".venv",
   "language": "python",
   "name": "python3"
  },
  "language_info": {
   "codemirror_mode": {
    "name": "ipython",
    "version": 3
   },
   "file_extension": ".py",
   "mimetype": "text/x-python",
   "name": "python",
   "nbconvert_exporter": "python",
   "pygments_lexer": "ipython3",
   "version": "3.12.3"
  }
 },
 "nbformat": 4,
 "nbformat_minor": 2
}
