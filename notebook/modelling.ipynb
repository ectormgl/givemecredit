{
 "cells": [
  {
   "cell_type": "code",
   "execution_count": 1,
   "metadata": {},
   "outputs": [],
   "source": [
    "import matplotlib.pyplot as plt\n",
    "import  numpy as np\n",
    "import  pandas as pd\n",
    "import os\n",
    "from sklearn.model_selection import train_test_split\n",
    "from sklearn.preprocessing import normalize\n",
    "from sklearn.ensemble import RandomForestClassifier\n",
    "from sklearn.metrics import accuracy_score\n",
    "from sklearn.neighbors import KNeighborsClassifier\n",
    "from sklearn import metrics\n",
    "import seaborn as sns\n",
    "\n",
    "from imblearn.over_sampling import RandomOverSampler\n",
    "import random\n",
    "import tensorflow as tf\n",
    "import warnings\n",
    "\n",
    "\n",
    "from sklearn.preprocessing import StandardScaler\n",
    "from sklearn.svm import SVC\n",
    "from sklearn.metrics import classification_report, confusion_matrix, roc_auc_score, roc_curve\n",
    "from sklearn.model_selection import LearningCurveDisplay, learning_curve\n",
    "\n",
    "\n",
    "\n",
    "\n",
    "\n",
    "\n",
    "warnings.simplefilter(action='ignore', category=FutureWarning)\n",
    "sns.set_theme(style=\"ticks\")\n",
    "sns.set_palette(\"viridis\")"
   ]
  },
  {
   "cell_type": "code",
   "execution_count": 9,
   "metadata": {},
   "outputs": [
    {
     "name": "stdout",
     "output_type": "stream",
     "text": [
      "Random Forest Model Classification Report\n",
      "              precision    recall  f1-score   support\n",
      "\n",
      "           0       0.96      0.94      0.95     27995\n",
      "           1       0.36      0.46      0.40      2005\n",
      "\n",
      "    accuracy                           0.91     30000\n",
      "   macro avg       0.66      0.70      0.68     30000\n",
      "weighted avg       0.92      0.91      0.91     30000\n",
      "\n",
      "[[26350  1645]\n",
      " [ 1091   914]]\n",
      "\n",
      "Random Forest Metrics\n",
      "Accuracy: 0.91\n",
      "Precision: 0.36\n",
      "Recall: 0.46\n",
      "F1-Score: 0.40\n"
     ]
    }
   ],
   "source": []
  },
  {
   "cell_type": "code",
   "execution_count": null,
   "metadata": {},
   "outputs": [],
   "source": []
  },
  {
   "cell_type": "code",
   "execution_count": 5,
   "metadata": {},
   "outputs": [
    {
     "data": {
      "text/plain": [
       "0    111979\n",
       "1    111979\n",
       "Name: SeriousDlqin2yrs, dtype: int64"
      ]
     },
     "execution_count": 5,
     "metadata": {},
     "output_type": "execute_result"
    }
   ],
   "source": [
    "y_train_resampled.value_counts()"
   ]
  },
  {
   "cell_type": "code",
   "execution_count": null,
   "metadata": {},
   "outputs": [],
   "source": [
    "from clarifai.client.model import Model\n",
    "from clarifai.client.input import Inputs\n",
    "\n",
    "prompt = \"Imagine you are dealing with the Give Me Credit Dataset in Python. Build a hole ETL process, prepare its data and construct a efficient Machine Learning model with 2 different algorithm: SVM and other that you think can be helpful\"\n",
    "inference_params = dict(temperature=0.2, max_tokens=100, top_k=50, system_prompt=\"You're the helpful assistent\")\n",
    "\n",
    "model_prediction = Model(\"https://clarifai.com/anthropic/completion/models/claude-3-sonnet\", pat='b79a01d879d64050ad594f53e4ec6bde').predict(inputs = [Inputs.get_multimodal_input(input_id=\"\", raw_text=prompt)], inference_params=inference_params)\n",
    "print(model_prediction.outputs[0].data.text.raw)\n"
   ]
  },
  {
   "cell_type": "markdown",
   "metadata": {},
   "source": [
    "### Helper functions"
   ]
  },
  {
   "cell_type": "code",
   "execution_count": 89,
   "metadata": {},
   "outputs": [],
   "source": [
    "df_data= pd.read_csv(os.path.join('..','data', 'cs-training.csv'))\n",
    "def cleanData(df):\n",
    "    '''\n",
    "    This Returns\n",
    "    '''\n",
    "    df.rename(columns={\"Unnamed: 0\": \"ID\",\n",
    "                            \"RevolvingUtilizationOfUnsecuredLines\": \"balance_divided_creditlimit\", \n",
    "                            \"NumberOfTime60-89DaysPastDueNotWorse\": \"number_times_latepay60-89\"}, inplace=True)\n",
    "\n",
    "    df.dropna(inplace=True)\n",
    "    df= df[df['age'] >=18 ]\n",
    "    df= df[df['NumberOfTime30-59DaysPastDueNotWorse']<96  ]\n",
    "    df= df[df['balance_divided_creditlimit']<=1]\n",
    "\n",
    "    \n",
    "    garbage_columns= [\"ID\",\"SeriousDlqin2yrs\", \"NumberOfTime30-59DaysPastDueNotWorse\"]\n",
    "    X_train, X_test, y_train, y_test = train_test_split( df.drop(garbage_columns, axis=1), df[\"SeriousDlqin2yrs\"], test_size=0.2)\n",
    "    return X_train, X_test, y_train, y_test\n",
    "def overSampling(X, y):\n",
    "\n",
    "    ros = RandomOverSampler(random_state=0)\n",
    "    X_resampled, y_resampled = ros.fit_resample(X, y)\n",
    "    \n",
    "    return X_resampled, y_resampled\n",
    "\n",
    "\n",
    "\n",
    "def plot_roc(y_true, y_score):\n",
    "    fpr, tpr, _ = roc_curve(y_true, y_score)\n",
    "    roc_auc = roc_auc_score(y_true, y_score)\n",
    "    \n",
    "    plt.figure()\n",
    "    plt.plot(fpr, tpr, color='darkorange', lw=2, label=f'ROC curve (area = {roc_auc:.2f})')\n",
    "    plt.plot([0, 1], [0, 1], color='navy', lw=2, linestyle='--')\n",
    "    plt.xlim([0.0, 1.0])\n",
    "    plt.ylim([0.0, 1.05])\n",
    "    plt.xlabel('False Positive Rate')\n",
    "    plt.ylabel('True Positive Rate')\n",
    "    plt.title('Receiver Operating Characteristic')\n",
    "    plt.legend(loc='lower right')\n",
    "    plt.show()\n",
    "\n",
    "\n",
    "\n",
    "def plot_learningCurve(model, X_train, y_train):\n",
    "    train_sizes, train_scores, test_scores = learning_curve(\n",
    "        model, X_train, y_train)\n",
    "    display = LearningCurveDisplay(train_sizes=train_sizes,\n",
    "        train_scores=train_scores, test_scores=test_scores, score_name=\"Score\")\n",
    "    display.plot()\n",
    "    plt.show()\n",
    "\n",
    "\n",
    "def plot_confussion(Y, y_pred):\n",
    "    confi = confusion_matrix(Y, y_pred)\n",
    "    plt.figure(figsize=(10, 10))\n",
    "\n",
    "    confi = (confi/confi.sum())*100\n",
    "    print(confi)\n",
    "    formatted_confi = np.vectorize(lambda x: f\"{x:.2f}%\")(confi)\n",
    "    sns.heatmap(confi, annot=formatted_confi, fmt=\"\", linewidths=.5, cmap='cividis', xticklabels=[ 'FN','TN'], yticklabels=['TP', 'FN'])\n",
    "    \n",
    "\n",
    "    plt.show()\n"
   ]
  },
  {
   "cell_type": "code",
   "execution_count": 90,
   "metadata": {},
   "outputs": [],
   "source": [
    "X_train, X_test, y_train, y_test = cleanData(df_data)\n",
    "########################################################\n",
    "X_train, y_train = overSampling(X_train, y_train)\n",
    "X_test, y_test= overSampling(X_test, y_test)"
   ]
  },
  {
   "cell_type": "markdown",
   "metadata": {},
   "source": [
    "## 5.0 DATA PRE-PROCESSING"
   ]
  },
  {
   "cell_type": "markdown",
   "metadata": {},
   "source": [
    "#### 5.1 -   Normalization"
   ]
  },
  {
   "cell_type": "code",
   "execution_count": 91,
   "metadata": {},
   "outputs": [],
   "source": [
    "\n",
    "real_columns= X_train.columns\n",
    "X_train= pd.DataFrame(StandardScaler().fit_transform(X_train), columns=real_columns)\n",
    "X_test = pd.DataFrame(StandardScaler().fit_transform(X_test), columns=real_columns)\n"
   ]
  },
  {
   "cell_type": "code",
   "execution_count": 92,
   "metadata": {},
   "outputs": [
    {
     "data": {
      "text/html": [
       "<div>\n",
       "<style scoped>\n",
       "    .dataframe tbody tr th:only-of-type {\n",
       "        vertical-align: middle;\n",
       "    }\n",
       "\n",
       "    .dataframe tbody tr th {\n",
       "        vertical-align: top;\n",
       "    }\n",
       "\n",
       "    .dataframe thead th {\n",
       "        text-align: right;\n",
       "    }\n",
       "</style>\n",
       "<table border=\"1\" class=\"dataframe\">\n",
       "  <thead>\n",
       "    <tr style=\"text-align: right;\">\n",
       "      <th></th>\n",
       "      <th>balance_divided_creditlimit</th>\n",
       "      <th>age</th>\n",
       "      <th>DebtRatio</th>\n",
       "      <th>MonthlyIncome</th>\n",
       "      <th>NumberOfOpenCreditLinesAndLoans</th>\n",
       "      <th>NumberOfTimes90DaysLate</th>\n",
       "      <th>NumberRealEstateLoansOrLines</th>\n",
       "      <th>number_times_latepay60-89</th>\n",
       "      <th>NumberOfDependents</th>\n",
       "    </tr>\n",
       "  </thead>\n",
       "  <tbody>\n",
       "    <tr>\n",
       "      <th>0</th>\n",
       "      <td>-1.220045</td>\n",
       "      <td>0.284852</td>\n",
       "      <td>-0.060780</td>\n",
       "      <td>-0.179927</td>\n",
       "      <td>-0.676371</td>\n",
       "      <td>-0.340201</td>\n",
       "      <td>-0.846336</td>\n",
       "      <td>-0.326087</td>\n",
       "      <td>0.880001</td>\n",
       "    </tr>\n",
       "    <tr>\n",
       "      <th>1</th>\n",
       "      <td>-0.712105</td>\n",
       "      <td>0.140975</td>\n",
       "      <td>-0.060274</td>\n",
       "      <td>0.074235</td>\n",
       "      <td>-0.121362</td>\n",
       "      <td>-0.340201</td>\n",
       "      <td>0.729159</td>\n",
       "      <td>-0.326087</td>\n",
       "      <td>0.880001</td>\n",
       "    </tr>\n",
       "    <tr>\n",
       "      <th>2</th>\n",
       "      <td>-0.598190</td>\n",
       "      <td>-0.218718</td>\n",
       "      <td>-0.059506</td>\n",
       "      <td>-0.278077</td>\n",
       "      <td>0.433646</td>\n",
       "      <td>-0.340201</td>\n",
       "      <td>-0.058588</td>\n",
       "      <td>-0.326087</td>\n",
       "      <td>0.045859</td>\n",
       "    </tr>\n",
       "    <tr>\n",
       "      <th>3</th>\n",
       "      <td>-1.086780</td>\n",
       "      <td>2.371072</td>\n",
       "      <td>-0.059876</td>\n",
       "      <td>-0.333287</td>\n",
       "      <td>-0.491368</td>\n",
       "      <td>-0.340201</td>\n",
       "      <td>-0.058588</td>\n",
       "      <td>-0.326087</td>\n",
       "      <td>-0.788282</td>\n",
       "    </tr>\n",
       "    <tr>\n",
       "      <th>4</th>\n",
       "      <td>-1.170995</td>\n",
       "      <td>2.227194</td>\n",
       "      <td>-0.060493</td>\n",
       "      <td>-0.105237</td>\n",
       "      <td>-0.121362</td>\n",
       "      <td>-0.340201</td>\n",
       "      <td>-0.058588</td>\n",
       "      <td>-0.326087</td>\n",
       "      <td>-0.788282</td>\n",
       "    </tr>\n",
       "    <tr>\n",
       "      <th>...</th>\n",
       "      <td>...</td>\n",
       "      <td>...</td>\n",
       "      <td>...</td>\n",
       "      <td>...</td>\n",
       "      <td>...</td>\n",
       "      <td>...</td>\n",
       "      <td>...</td>\n",
       "      <td>...</td>\n",
       "      <td>...</td>\n",
       "    </tr>\n",
       "    <tr>\n",
       "      <th>176211</th>\n",
       "      <td>-1.056744</td>\n",
       "      <td>-0.074841</td>\n",
       "      <td>-0.059813</td>\n",
       "      <td>0.343650</td>\n",
       "      <td>2.653680</td>\n",
       "      <td>-0.340201</td>\n",
       "      <td>-0.058588</td>\n",
       "      <td>-0.326087</td>\n",
       "      <td>0.880001</td>\n",
       "    </tr>\n",
       "    <tr>\n",
       "      <th>176212</th>\n",
       "      <td>0.577860</td>\n",
       "      <td>-1.441675</td>\n",
       "      <td>-0.059791</td>\n",
       "      <td>-0.333287</td>\n",
       "      <td>-0.861373</td>\n",
       "      <td>-0.340201</td>\n",
       "      <td>-0.846336</td>\n",
       "      <td>-0.326087</td>\n",
       "      <td>2.548285</td>\n",
       "    </tr>\n",
       "    <tr>\n",
       "      <th>176213</th>\n",
       "      <td>1.428947</td>\n",
       "      <td>-1.585552</td>\n",
       "      <td>-0.060773</td>\n",
       "      <td>-0.001699</td>\n",
       "      <td>-1.601384</td>\n",
       "      <td>0.771425</td>\n",
       "      <td>-0.846336</td>\n",
       "      <td>1.396336</td>\n",
       "      <td>2.548285</td>\n",
       "    </tr>\n",
       "    <tr>\n",
       "      <th>176214</th>\n",
       "      <td>-1.214696</td>\n",
       "      <td>-1.297798</td>\n",
       "      <td>-0.059747</td>\n",
       "      <td>0.032786</td>\n",
       "      <td>0.063641</td>\n",
       "      <td>-0.340201</td>\n",
       "      <td>0.729159</td>\n",
       "      <td>-0.326087</td>\n",
       "      <td>-0.788282</td>\n",
       "    </tr>\n",
       "    <tr>\n",
       "      <th>176215</th>\n",
       "      <td>0.014599</td>\n",
       "      <td>-1.153920</td>\n",
       "      <td>-0.058385</td>\n",
       "      <td>-0.354011</td>\n",
       "      <td>0.618649</td>\n",
       "      <td>-0.340201</td>\n",
       "      <td>-0.058588</td>\n",
       "      <td>-0.326087</td>\n",
       "      <td>-0.788282</td>\n",
       "    </tr>\n",
       "  </tbody>\n",
       "</table>\n",
       "<p>176216 rows × 9 columns</p>\n",
       "</div>"
      ],
      "text/plain": [
       "        balance_divided_creditlimit       age  DebtRatio  MonthlyIncome  \\\n",
       "0                         -1.220045  0.284852  -0.060780      -0.179927   \n",
       "1                         -0.712105  0.140975  -0.060274       0.074235   \n",
       "2                         -0.598190 -0.218718  -0.059506      -0.278077   \n",
       "3                         -1.086780  2.371072  -0.059876      -0.333287   \n",
       "4                         -1.170995  2.227194  -0.060493      -0.105237   \n",
       "...                             ...       ...        ...            ...   \n",
       "176211                    -1.056744 -0.074841  -0.059813       0.343650   \n",
       "176212                     0.577860 -1.441675  -0.059791      -0.333287   \n",
       "176213                     1.428947 -1.585552  -0.060773      -0.001699   \n",
       "176214                    -1.214696 -1.297798  -0.059747       0.032786   \n",
       "176215                     0.014599 -1.153920  -0.058385      -0.354011   \n",
       "\n",
       "        NumberOfOpenCreditLinesAndLoans  NumberOfTimes90DaysLate  \\\n",
       "0                             -0.676371                -0.340201   \n",
       "1                             -0.121362                -0.340201   \n",
       "2                              0.433646                -0.340201   \n",
       "3                             -0.491368                -0.340201   \n",
       "4                             -0.121362                -0.340201   \n",
       "...                                 ...                      ...   \n",
       "176211                         2.653680                -0.340201   \n",
       "176212                        -0.861373                -0.340201   \n",
       "176213                        -1.601384                 0.771425   \n",
       "176214                         0.063641                -0.340201   \n",
       "176215                         0.618649                -0.340201   \n",
       "\n",
       "        NumberRealEstateLoansOrLines  number_times_latepay60-89  \\\n",
       "0                          -0.846336                  -0.326087   \n",
       "1                           0.729159                  -0.326087   \n",
       "2                          -0.058588                  -0.326087   \n",
       "3                          -0.058588                  -0.326087   \n",
       "4                          -0.058588                  -0.326087   \n",
       "...                              ...                        ...   \n",
       "176211                     -0.058588                  -0.326087   \n",
       "176212                     -0.846336                  -0.326087   \n",
       "176213                     -0.846336                   1.396336   \n",
       "176214                      0.729159                  -0.326087   \n",
       "176215                     -0.058588                  -0.326087   \n",
       "\n",
       "        NumberOfDependents  \n",
       "0                 0.880001  \n",
       "1                 0.880001  \n",
       "2                 0.045859  \n",
       "3                -0.788282  \n",
       "4                -0.788282  \n",
       "...                    ...  \n",
       "176211            0.880001  \n",
       "176212            2.548285  \n",
       "176213            2.548285  \n",
       "176214           -0.788282  \n",
       "176215           -0.788282  \n",
       "\n",
       "[176216 rows x 9 columns]"
      ]
     },
     "execution_count": 92,
     "metadata": {},
     "output_type": "execute_result"
    }
   ],
   "source": [
    "X_train"
   ]
  },
  {
   "cell_type": "markdown",
   "metadata": {},
   "source": [
    "## 6.0 - Model Training"
   ]
  },
  {
   "cell_type": "code",
   "execution_count": null,
   "metadata": {},
   "outputs": [
    {
     "data": {
      "text/html": [
       "<div>\n",
       "<style scoped>\n",
       "    .dataframe tbody tr th:only-of-type {\n",
       "        vertical-align: middle;\n",
       "    }\n",
       "\n",
       "    .dataframe tbody tr th {\n",
       "        vertical-align: top;\n",
       "    }\n",
       "\n",
       "    .dataframe thead th {\n",
       "        text-align: right;\n",
       "    }\n",
       "</style>\n",
       "<table border=\"1\" class=\"dataframe\">\n",
       "  <thead>\n",
       "    <tr style=\"text-align: right;\">\n",
       "      <th></th>\n",
       "      <th>KNN</th>\n",
       "      <th>RForest</th>\n",
       "      <th>SVM</th>\n",
       "      <th>Neural Network</th>\n",
       "    </tr>\n",
       "  </thead>\n",
       "  <tbody>\n",
       "  </tbody>\n",
       "</table>\n",
       "</div>"
      ],
      "text/plain": [
       "Empty DataFrame\n",
       "Columns: [KNN, RForest, SVM, Neural Network]\n",
       "Index: []"
      ]
     },
     "metadata": {},
     "output_type": "display_data"
    }
   ],
   "source": [
    "models_accuracy"
   ]
  },
  {
   "cell_type": "markdown",
   "metadata": {},
   "source": [
    "#### 6.1 -  KNN Classifier"
   ]
  },
  {
   "cell_type": "code",
   "execution_count": 93,
   "metadata": {},
   "outputs": [
    {
     "data": {
      "image/png": "[encoded data removed]",
      "text/plain": [
       "<Figure size 640x480 with 1 Axes>"
      ]
     },
     "metadata": {},
     "output_type": "display_data"
    },
    {
     "name": "stdout",
     "output_type": "stream",
     "text": [
      "              precision    recall  f1-score   support\n",
      "\n",
      "           0       0.72      0.74      0.73     21996\n",
      "           1       0.74      0.71      0.72     21996\n",
      "\n",
      "    accuracy                           0.73     43992\n",
      "   macro avg       0.73      0.73      0.73     43992\n",
      "weighted avg       0.73      0.73      0.73     43992\n",
      "\n"
     ]
    }
   ],
   "source": [
    "models_accuracy = pd.DataFrame(columns=['KNN', 'RForest', 'SVM', 'Neural Network' ])\n",
    "knn = KNeighborsClassifier(n_neighbors=50).fit(X_train, y_train)\n",
    "y_knn_n = knn.predict(X_test)\n",
    "accuracy_knn = (accuracy_score(y_test, y_knn_n))*100\n",
    "\n",
    "y_prob_knn = knn.predict_proba(X_test)[:, 1]\n",
    "\n",
    "plot_roc(y_test, y_prob_knn)\n",
    "print(classification_report(y_test, y_knn_n))\n",
    "\n"
   ]
  },
  {
   "cell_type": "markdown",
   "metadata": {},
   "source": [
    "#### 6.2 -  Random Florest Classifier"
   ]
  },
  {
   "cell_type": "code",
   "execution_count": 94,
   "metadata": {},
   "outputs": [
    {
     "data": {
      "image/png": "[encoded data removed]",
      "text/plain": [
       "<Figure size 640x480 with 1 Axes>"
      ]
     },
     "metadata": {},
     "output_type": "display_data"
    },
    {
     "data": {
      "image/png": "[encoded data removed]",
      "text/plain": [
       "<Figure size 640x480 with 1 Axes>"
      ]
     },
     "metadata": {},
     "output_type": "display_data"
    },
    {
     "name": "stdout",
     "output_type": "stream",
     "text": [
      "[[21682   314]\n",
      " [17681  4315]]\n",
      "              precision    recall  f1-score   support\n",
      "\n",
      "           0       0.55      0.99      0.71     21996\n",
      "           1       0.93      0.20      0.32     21996\n",
      "\n",
      "    accuracy                           0.59     43992\n",
      "   macro avg       0.74      0.59      0.52     43992\n",
      "weighted avg       0.74      0.59      0.52     43992\n",
      "\n"
     ]
    }
   ],
   "source": [
    "forest = RandomForestClassifier(random_state=0)\n",
    "forest.fit(X_train, y_train)\n",
    "y_RFC= forest.predict(X_test)\n",
    "accuracy_RFC= (accuracy_score(y_test, y_RFC))*100\n",
    "\n",
    "#Feature importance\n",
    "importance = forest.feature_importances_\n",
    "global_importances = pd.DataFrame(importance, index=X_train.columns)\n",
    "\n",
    "#ROC GRAPH\n",
    "y_pred_prob = forest.predict_proba(X_test)[:, 1]\n",
    "\n",
    "global_importances.plot.barh()\n",
    "plot_roc(y_test, y_pred_prob)\n",
    "\n",
    "print(confusion_matrix(y_test, y_RFC))\n",
    "print(classification_report(y_test, y_RFC))\n",
    "plt.show()"
   ]
  },
  {
   "cell_type": "markdown",
   "metadata": {},
   "source": [
    "#### 6.3 - SVM"
   ]
  },
  {
   "cell_type": "code",
   "execution_count": 95,
   "metadata": {},
   "outputs": [
    {
     "name": "stdout",
     "output_type": "stream",
     "text": [
      "[[38.62975086 14.60038189]\n",
      " [11.37024914 35.39961811]]\n"
     ]
    },
    {
     "name": "stderr",
     "output_type": "stream",
     "text": [
      "c:\\Users\\Erika Magalhães\\AppData\\Local\\Programs\\Python\\Python311\\Lib\\site-packages\\sklearn\\svm\\_base.py:1237: ConvergenceWarning: Liblinear failed to converge, increase the number of iterations.\n",
      "  warnings.warn(\n"
     ]
    },
    {
     "data": {
      "image/png": "[encoded data removed]",
      "text/plain": [
       "<Figure size 1000x1000 with 2 Axes>"
      ]
     },
     "metadata": {},
     "output_type": "display_data"
    },
    {
     "data": {
      "text/plain": [
       "'              precision    recall  f1-score   support\\n\\n           0       0.73      0.77      0.75     21996\\n           1       0.76      0.71      0.73     21996\\n\\n    accuracy                           0.74     43992\\n   macro avg       0.74      0.74      0.74     43992\\nweighted avg       0.74      0.74      0.74     43992\\n'"
      ]
     },
     "execution_count": 95,
     "metadata": {},
     "output_type": "execute_result"
    }
   ],
   "source": [
    "from sklearn.svm import LinearSVC\n",
    "\n",
    "svm_model = LinearSVC(random_state=0)  \n",
    "svm_model.fit(X_train, y_train)\n",
    "\n",
    "y_pred = svm_model.predict(X_test)\n",
    "\n",
    "\n",
    "\n",
    "\n",
    "plot_confussion(y_pred, y_test)\n",
    "cm_rf= classification_report(y_test, y_pred)\n",
    "accuracy_SVM= (accuracy_score(y_pred, y_test))*100\n",
    "cm_rf"
   ]
  },
  {
   "cell_type": "markdown",
   "metadata": {},
   "source": [
    "### Description\n",
    "- Support Vector Machines (SVM)"
   ]
  },
  {
   "cell_type": "markdown",
   "metadata": {},
   "source": [
    "#### 6.5 -  Neural networks"
   ]
  },
  {
   "cell_type": "code",
   "execution_count": 96,
   "metadata": {},
   "outputs": [
    {
     "name": "stdout",
     "output_type": "stream",
     "text": [
      "Epoch 1/5\n",
      "5507/5507 [==============================] - 18s 3ms/step - loss: 0.6098 - binary_accuracy: 0.7457\n",
      "Epoch 2/5\n",
      "5507/5507 [==============================] - 17s 3ms/step - loss: 0.5910 - binary_accuracy: 0.7467\n",
      "Epoch 3/5\n",
      "5507/5507 [==============================] - 17s 3ms/step - loss: 0.5891 - binary_accuracy: 0.7464\n",
      "Epoch 4/5\n",
      "5507/5507 [==============================] - 17s 3ms/step - loss: 0.5865 - binary_accuracy: 0.7486\n",
      "Epoch 5/5\n",
      "5507/5507 [==============================] - 17s 3ms/step - loss: 0.5854 - binary_accuracy: 0.7490\n"
     ]
    },
    {
     "data": {
      "text/plain": [
       "<keras.src.callbacks.History at 0x1961057e950>"
      ]
     },
     "execution_count": 96,
     "metadata": {},
     "output_type": "execute_result"
    }
   ],
   "source": [
    "model =tf.keras.Sequential(\n",
    "[tf.keras.layers.Input(shape=(9,)),\n",
    " tf.keras.layers.Dense(units=50, activation='relu', ),\n",
    " tf.keras.layers.Dense(units=100, activation='relu', ),\n",
    " tf.keras.layers.Dropout(0.2),\n",
    " tf.keras.layers.Dense(units=50, activation='relu', kernel_regularizer='l1' ),\n",
    " tf.keras.layers.Dense(units=1, activation='sigmoid', )\n",
    "]\n",
    ")\n",
    "model.compile(optimizer=tf.keras.optimizers.Adam(learning_rate=0.01), loss='binary_crossentropy',  metrics=[tf.keras.metrics.BinaryAccuracy()])\n",
    "model.fit(X_train, y_train, batch_size=32, epochs=5)"
   ]
  },
  {
   "cell_type": "code",
   "execution_count": 97,
   "metadata": {},
   "outputs": [
    {
     "name": "stdout",
     "output_type": "stream",
     "text": [
      "Model: \"sequential_16\"\n",
      "_________________________________________________________________\n",
      " Layer (type)                Output Shape              Param #   \n",
      "=================================================================\n",
      " dense_64 (Dense)            (None, 50)                500       \n",
      "                                                                 \n",
      " dense_65 (Dense)            (None, 100)               5100      \n",
      "                                                                 \n",
      " dropout_16 (Dropout)        (None, 100)               0         \n",
      "                                                                 \n",
      " dense_66 (Dense)            (None, 50)                5050      \n",
      "                                                                 \n",
      " dense_67 (Dense)            (None, 1)                 51        \n",
      "                                                                 \n",
      "=================================================================\n",
      "Total params: 10701 (41.80 KB)\n",
      "Trainable params: 10701 (41.80 KB)\n",
      "Non-trainable params: 0 (0.00 Byte)\n",
      "_________________________________________________________________\n"
     ]
    }
   ],
   "source": [
    "model.summary()"
   ]
  },
  {
   "cell_type": "code",
   "execution_count": 98,
   "metadata": {},
   "outputs": [
    {
     "name": "stdout",
     "output_type": "stream",
     "text": [
      "1375/1375 [==============================] - 3s 2ms/step\n",
      "Model Accuracy: 73.77023095108201\n"
     ]
    }
   ],
   "source": [
    "y_nn=model.predict(X_test)\n",
    "y_pred = (y_nn >= 0.6).astype(int)\n",
    "acc_NN= (accuracy_score(y_pred, y_test ))*100\n",
    "print(f\"Model Accuracy: {acc_NN}\")"
   ]
  },
  {
   "cell_type": "code",
   "execution_count": 100,
   "metadata": {},
   "outputs": [],
   "source": [
    "models_accuracy.loc[0]= {'KNN':f'{accuracy_knn:.2f}%', 'RForest': f'{accuracy_RFC:.2f}%', 'SVM': f'{accuracy_SVM:.2f}%', 'Neural Network': f'{acc_NN:.2f}%'}"
   ]
  },
  {
   "cell_type": "code",
   "execution_count": 101,
   "metadata": {},
   "outputs": [
    {
     "data": {
      "text/html": [
       "<div>\n",
       "<style scoped>\n",
       "    .dataframe tbody tr th:only-of-type {\n",
       "        vertical-align: middle;\n",
       "    }\n",
       "\n",
       "    .dataframe tbody tr th {\n",
       "        vertical-align: top;\n",
       "    }\n",
       "\n",
       "    .dataframe thead th {\n",
       "        text-align: right;\n",
       "    }\n",
       "</style>\n",
       "<table border=\"1\" class=\"dataframe\">\n",
       "  <thead>\n",
       "    <tr style=\"text-align: right;\">\n",
       "      <th></th>\n",
       "      <th>KNN</th>\n",
       "      <th>RForest</th>\n",
       "      <th>SVM</th>\n",
       "      <th>Neural Network</th>\n",
       "    </tr>\n",
       "  </thead>\n",
       "  <tbody>\n",
       "    <tr>\n",
       "      <th>0</th>\n",
       "      <td>72.77%</td>\n",
       "      <td>59.09%</td>\n",
       "      <td>74.03%</td>\n",
       "      <td>73.77%</td>\n",
       "    </tr>\n",
       "  </tbody>\n",
       "</table>\n",
       "</div>"
      ],
      "text/plain": [
       "      KNN RForest     SVM Neural Network\n",
       "0  72.77%  59.09%  74.03%         73.77%"
      ]
     },
     "execution_count": 101,
     "metadata": {},
     "output_type": "execute_result"
    }
   ],
   "source": [
    "models_accuracy"
   ]
  },
  {
   "cell_type": "code",
   "execution_count": null,
   "metadata": {},
   "outputs": [],
   "source": [
    "def app(value):\n",
    "    if value.argmax() == 0:\n",
    "        return 0\n",
    "    elif value.argmax() == 1:\n",
    "        return 1\n",
    "listest= []\n",
    "for i in yhat_knn_new:\n",
    "\n",
    "    listest.append(app(i))\n",
    "\n",
    "acc_teste= np.array(listest)"
   ]
  },
  {
   "cell_type": "markdown",
   "metadata": {},
   "source": [
    "#### 5.1 - Changing data type"
   ]
  },
  {
   "cell_type": "code",
   "execution_count": null,
   "metadata": {},
   "outputs": [
    {
     "data": {
      "text/html": [
       "<div>\n",
       "<style scoped>\n",
       "    .dataframe tbody tr th:only-of-type {\n",
       "        vertical-align: middle;\n",
       "    }\n",
       "\n",
       "    .dataframe tbody tr th {\n",
       "        vertical-align: top;\n",
       "    }\n",
       "\n",
       "    .dataframe thead th {\n",
       "        text-align: right;\n",
       "    }\n",
       "</style>\n",
       "<table border=\"1\" class=\"dataframe\">\n",
       "  <thead>\n",
       "    <tr style=\"text-align: right;\">\n",
       "      <th></th>\n",
       "      <th>0</th>\n",
       "    </tr>\n",
       "  </thead>\n",
       "  <tbody>\n",
       "    <tr>\n",
       "      <th>balance_divided_creditlimit</th>\n",
       "      <td>float64</td>\n",
       "    </tr>\n",
       "    <tr>\n",
       "      <th>age</th>\n",
       "      <td>int8</td>\n",
       "    </tr>\n",
       "    <tr>\n",
       "      <th>DebtRatio</th>\n",
       "      <td>float64</td>\n",
       "    </tr>\n",
       "    <tr>\n",
       "      <th>MonthlyIncome</th>\n",
       "      <td>float64</td>\n",
       "    </tr>\n",
       "    <tr>\n",
       "      <th>NumberOfOpenCreditLinesAndLoans</th>\n",
       "      <td>int16</td>\n",
       "    </tr>\n",
       "    <tr>\n",
       "      <th>NumberOfTimes90DaysLate</th>\n",
       "      <td>int16</td>\n",
       "    </tr>\n",
       "    <tr>\n",
       "      <th>NumberRealEstateLoansOrLines</th>\n",
       "      <td>int16</td>\n",
       "    </tr>\n",
       "    <tr>\n",
       "      <th>number_times_latepay60-89</th>\n",
       "      <td>int16</td>\n",
       "    </tr>\n",
       "    <tr>\n",
       "      <th>NumberOfDependents</th>\n",
       "      <td>int16</td>\n",
       "    </tr>\n",
       "  </tbody>\n",
       "</table>\n",
       "</div>"
      ],
      "text/plain": [
       "                                       0\n",
       "balance_divided_creditlimit      float64\n",
       "age                                 int8\n",
       "DebtRatio                        float64\n",
       "MonthlyIncome                    float64\n",
       "NumberOfOpenCreditLinesAndLoans    int16\n",
       "NumberOfTimes90DaysLate            int16\n",
       "NumberRealEstateLoansOrLines       int16\n",
       "number_times_latepay60-89          int16\n",
       "NumberOfDependents                 int16"
      ]
     },
     "metadata": {},
     "output_type": "display_data"
    }
   ],
   "source": [
    "columns_type= ['NumberOfOpenCreditLinesAndLoans', 'NumberOfTimes90DaysLate',\n",
    "       'NumberRealEstateLoansOrLines', 'number_times_latepay60-89',\n",
    "       'NumberOfDependents']\n",
    "\n",
    "X_train[columns_type] = X_train[columns_type].astype(np.int16)\n",
    "y_train = y_train.astype(np.int8)\n",
    "X_train['age'] = X_train['age'].astype(np.int8)\n",
    "\n",
    "\n",
    "X_test[columns_type] = X_test[columns_type].astype(np.int16)\n",
    "y_test = y_test.astype(np.int8)\n",
    "X_test['age'] = X_test['age'].astype(np.int8)\n",
    "pd.DataFrame(X_train.dtypes)\n",
    "\n",
    "\n",
    "# Note we are reducing the bits usage of the features looking for a better perfomance. Some features as 'Age' doesn't need any bigger type than int8\n"
   ]
  },
  {
   "cell_type": "markdown",
   "metadata": {},
   "source": [
    "#### 5.2 -   Normalization"
   ]
  },
  {
   "cell_type": "code",
   "execution_count": null,
   "metadata": {},
   "outputs": [
    {
     "data": {
      "text/html": [
       "<div>\n",
       "<style scoped>\n",
       "    .dataframe tbody tr th:only-of-type {\n",
       "        vertical-align: middle;\n",
       "    }\n",
       "\n",
       "    .dataframe tbody tr th {\n",
       "        vertical-align: top;\n",
       "    }\n",
       "\n",
       "    .dataframe thead th {\n",
       "        text-align: right;\n",
       "    }\n",
       "</style>\n",
       "<table border=\"1\" class=\"dataframe\">\n",
       "  <thead>\n",
       "    <tr style=\"text-align: right;\">\n",
       "      <th></th>\n",
       "      <th>balance_divided_creditlimit</th>\n",
       "      <th>age</th>\n",
       "      <th>DebtRatio</th>\n",
       "      <th>MonthlyIncome</th>\n",
       "      <th>NumberOfOpenCreditLinesAndLoans</th>\n",
       "      <th>NumberOfTimes90DaysLate</th>\n",
       "      <th>NumberRealEstateLoansOrLines</th>\n",
       "      <th>number_times_latepay60-89</th>\n",
       "      <th>NumberOfDependents</th>\n",
       "    </tr>\n",
       "  </thead>\n",
       "  <tbody>\n",
       "    <tr>\n",
       "      <th>0</th>\n",
       "      <td>1.513451e-08</td>\n",
       "      <td>0.002360</td>\n",
       "      <td>0.000005</td>\n",
       "      <td>0.999997</td>\n",
       "      <td>0.000640</td>\n",
       "      <td>0.000000</td>\n",
       "      <td>0.000080</td>\n",
       "      <td>0.0</td>\n",
       "      <td>0.000000</td>\n",
       "    </tr>\n",
       "    <tr>\n",
       "      <th>1</th>\n",
       "      <td>0.000000e+00</td>\n",
       "      <td>0.003091</td>\n",
       "      <td>0.000015</td>\n",
       "      <td>0.999995</td>\n",
       "      <td>0.000412</td>\n",
       "      <td>0.000000</td>\n",
       "      <td>0.000069</td>\n",
       "      <td>0.0</td>\n",
       "      <td>0.000069</td>\n",
       "    </tr>\n",
       "    <tr>\n",
       "      <th>2</th>\n",
       "      <td>3.074909e-04</td>\n",
       "      <td>0.020240</td>\n",
       "      <td>0.000166</td>\n",
       "      <td>0.999793</td>\n",
       "      <td>0.001687</td>\n",
       "      <td>0.000000</td>\n",
       "      <td>0.000422</td>\n",
       "      <td>0.0</td>\n",
       "      <td>0.000843</td>\n",
       "    </tr>\n",
       "    <tr>\n",
       "      <th>3</th>\n",
       "      <td>0.000000e+00</td>\n",
       "      <td>0.004397</td>\n",
       "      <td>0.000017</td>\n",
       "      <td>0.999990</td>\n",
       "      <td>0.000684</td>\n",
       "      <td>0.000000</td>\n",
       "      <td>0.000098</td>\n",
       "      <td>0.0</td>\n",
       "      <td>0.000098</td>\n",
       "    </tr>\n",
       "    <tr>\n",
       "      <th>4</th>\n",
       "      <td>4.757110e-06</td>\n",
       "      <td>0.008705</td>\n",
       "      <td>0.000044</td>\n",
       "      <td>0.999961</td>\n",
       "      <td>0.001596</td>\n",
       "      <td>0.000000</td>\n",
       "      <td>0.000145</td>\n",
       "      <td>0.0</td>\n",
       "      <td>0.000000</td>\n",
       "    </tr>\n",
       "    <tr>\n",
       "      <th>...</th>\n",
       "      <td>...</td>\n",
       "      <td>...</td>\n",
       "      <td>...</td>\n",
       "      <td>...</td>\n",
       "      <td>...</td>\n",
       "      <td>...</td>\n",
       "      <td>...</td>\n",
       "      <td>...</td>\n",
       "      <td>...</td>\n",
       "    </tr>\n",
       "    <tr>\n",
       "      <th>44837</th>\n",
       "      <td>2.686495e-04</td>\n",
       "      <td>0.018330</td>\n",
       "      <td>0.000139</td>\n",
       "      <td>0.999819</td>\n",
       "      <td>0.004999</td>\n",
       "      <td>0.000000</td>\n",
       "      <td>0.000000</td>\n",
       "      <td>0.0</td>\n",
       "      <td>0.000000</td>\n",
       "    </tr>\n",
       "    <tr>\n",
       "      <th>44838</th>\n",
       "      <td>5.516826e-04</td>\n",
       "      <td>0.026481</td>\n",
       "      <td>0.000011</td>\n",
       "      <td>0.999649</td>\n",
       "      <td>0.000000</td>\n",
       "      <td>0.000552</td>\n",
       "      <td>0.000000</td>\n",
       "      <td>0.0</td>\n",
       "      <td>0.000000</td>\n",
       "    </tr>\n",
       "    <tr>\n",
       "      <th>44839</th>\n",
       "      <td>7.402333e-06</td>\n",
       "      <td>0.002917</td>\n",
       "      <td>0.000028</td>\n",
       "      <td>0.999995</td>\n",
       "      <td>0.000750</td>\n",
       "      <td>0.000000</td>\n",
       "      <td>0.000083</td>\n",
       "      <td>0.0</td>\n",
       "      <td>0.000000</td>\n",
       "    </tr>\n",
       "    <tr>\n",
       "      <th>44840</th>\n",
       "      <td>2.802414e-04</td>\n",
       "      <td>0.014012</td>\n",
       "      <td>0.000100</td>\n",
       "      <td>0.999901</td>\n",
       "      <td>0.000560</td>\n",
       "      <td>0.000280</td>\n",
       "      <td>0.000280</td>\n",
       "      <td>0.0</td>\n",
       "      <td>0.000560</td>\n",
       "    </tr>\n",
       "    <tr>\n",
       "      <th>44841</th>\n",
       "      <td>5.808876e-05</td>\n",
       "      <td>0.007488</td>\n",
       "      <td>0.000032</td>\n",
       "      <td>0.999971</td>\n",
       "      <td>0.001498</td>\n",
       "      <td>0.000115</td>\n",
       "      <td>0.000115</td>\n",
       "      <td>0.0</td>\n",
       "      <td>0.000115</td>\n",
       "    </tr>\n",
       "  </tbody>\n",
       "</table>\n",
       "<p>44842 rows × 9 columns</p>\n",
       "</div>"
      ],
      "text/plain": [
       "       balance_divided_creditlimit       age  DebtRatio  MonthlyIncome  \\\n",
       "0                     1.513451e-08  0.002360   0.000005       0.999997   \n",
       "1                     0.000000e+00  0.003091   0.000015       0.999995   \n",
       "2                     3.074909e-04  0.020240   0.000166       0.999793   \n",
       "3                     0.000000e+00  0.004397   0.000017       0.999990   \n",
       "4                     4.757110e-06  0.008705   0.000044       0.999961   \n",
       "...                            ...       ...        ...            ...   \n",
       "44837                 2.686495e-04  0.018330   0.000139       0.999819   \n",
       "44838                 5.516826e-04  0.026481   0.000011       0.999649   \n",
       "44839                 7.402333e-06  0.002917   0.000028       0.999995   \n",
       "44840                 2.802414e-04  0.014012   0.000100       0.999901   \n",
       "44841                 5.808876e-05  0.007488   0.000032       0.999971   \n",
       "\n",
       "       NumberOfOpenCreditLinesAndLoans  NumberOfTimes90DaysLate  \\\n",
       "0                             0.000640                 0.000000   \n",
       "1                             0.000412                 0.000000   \n",
       "2                             0.001687                 0.000000   \n",
       "3                             0.000684                 0.000000   \n",
       "4                             0.001596                 0.000000   \n",
       "...                                ...                      ...   \n",
       "44837                         0.004999                 0.000000   \n",
       "44838                         0.000000                 0.000552   \n",
       "44839                         0.000750                 0.000000   \n",
       "44840                         0.000560                 0.000280   \n",
       "44841                         0.001498                 0.000115   \n",
       "\n",
       "       NumberRealEstateLoansOrLines  number_times_latepay60-89  \\\n",
       "0                          0.000080                        0.0   \n",
       "1                          0.000069                        0.0   \n",
       "2                          0.000422                        0.0   \n",
       "3                          0.000098                        0.0   \n",
       "4                          0.000145                        0.0   \n",
       "...                             ...                        ...   \n",
       "44837                      0.000000                        0.0   \n",
       "44838                      0.000000                        0.0   \n",
       "44839                      0.000083                        0.0   \n",
       "44840                      0.000280                        0.0   \n",
       "44841                      0.000115                        0.0   \n",
       "\n",
       "       NumberOfDependents  \n",
       "0                0.000000  \n",
       "1                0.000069  \n",
       "2                0.000843  \n",
       "3                0.000098  \n",
       "4                0.000000  \n",
       "...                   ...  \n",
       "44837            0.000000  \n",
       "44838            0.000000  \n",
       "44839            0.000000  \n",
       "44840            0.000560  \n",
       "44841            0.000115  \n",
       "\n",
       "[44842 rows x 9 columns]"
      ]
     },
     "metadata": {},
     "output_type": "display_data"
    }
   ],
   "source": [
    "\n",
    "real_columns= X_train.columns\n",
    "X_train= pd.DataFrame(normalize(X_train), columns=real_columns)\n",
    "X_test = pd.DataFrame(normalize(X_test), columns=real_columns)\n",
    "X_test"
   ]
  }
 ],
 "metadata": {
  "kernelspec": {
   "display_name": ".venv",
   "language": "python",
   "name": "python3"
  },
  "language_info": {
   "codemirror_mode": {
    "name": "ipython",
    "version": 3
   },
   "file_extension": ".py",
   "mimetype": "text/x-python",
   "name": "python",
   "nbconvert_exporter": "python",
   "pygments_lexer": "ipython3",
   "version": "3.11.2"
  }
 },
 "nbformat": 4,
 "nbformat_minor": 2
}
